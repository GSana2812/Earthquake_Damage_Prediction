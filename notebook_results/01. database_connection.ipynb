{
 "cells": [
  {
   "cell_type": "code",
   "execution_count": 2,
   "metadata": {},
   "outputs": [],
   "source": [
    "import sys\n",
    "sys.path.append('/Users/gscerberus/Earthquake_Damage_Predicton')"
   ]
  },
  {
   "cell_type": "code",
   "execution_count": 3,
   "metadata": {},
   "outputs": [],
   "source": [
    "import os\n",
    "os.chdir('/Users/gscerberus/Earthquake_Damage_Predicton')"
   ]
  },
  {
   "cell_type": "code",
   "execution_count": 4,
   "metadata": {},
   "outputs": [
    {
     "data": {
      "text/plain": [
       "'/Users/gscerberus/Earthquake_Damage_Predicton'"
      ]
     },
     "execution_count": 4,
     "metadata": {},
     "output_type": "execute_result"
    }
   ],
   "source": [
    "os.getcwd()"
   ]
  },
  {
   "cell_type": "code",
   "execution_count": 5,
   "metadata": {},
   "outputs": [],
   "source": [
    "from src.data import Database\n",
    "from src.query import SELECT_QUERY\n",
    "import warnings\n",
    "warnings.filterwarnings('ignore')\n",
    "import tomli\n",
    "import logging"
   ]
  },
  {
   "cell_type": "code",
   "execution_count": 6,
   "metadata": {},
   "outputs": [],
   "source": [
    "logging.basicConfig(\n",
    "    filename='logs/database.log',\n",
    "    level=logging.DEBUG,  # Set the logging level (e.g., DEBUG, INFO, WARNING, ERROR, CRITICAL)\n",
    "    format='%(asctime)s [%(levelname)s] %(message)s',  # Define the log message format\n",
    "    datefmt='%Y-%m-%d %H:%M:%S'  # Define the date and time format\n",
    ")"
   ]
  },
  {
   "cell_type": "code",
   "execution_count": 7,
   "metadata": {},
   "outputs": [],
   "source": [
    "# load config.toml \n",
    "def load_config(filename):\n",
    "    with open(filename, 'rb') as file:\n",
    "        config = tomli.load(file)\n",
    "    return config\n"
   ]
  },
  {
   "cell_type": "code",
   "execution_count": 8,
   "metadata": {},
   "outputs": [],
   "source": [
    "config = load_config('config.toml')"
   ]
  },
  {
   "cell_type": "code",
   "execution_count": 9,
   "metadata": {},
   "outputs": [],
   "source": [
    "components = {'DB_NAME': config['database']['database_name'],\n",
    "                  'USER': config['database']['user'],\n",
    "                  'PASSWORD': config['database']['password'],\n",
    "                  'HOST': config['database']['host'],\n",
    "                  'PORT': int(config['database']['port'])}"
   ]
  },
  {
   "cell_type": "code",
   "execution_count": 10,
   "metadata": {},
   "outputs": [],
   "source": [
    "data_connection = Database(components)\n",
    "\n",
    "data_connection.execute_query(SELECT_QUERY)\n",
    "\n",
    "df = data_connection.fetch_as_dataframe()"
   ]
  },
  {
   "cell_type": "code",
   "execution_count": 11,
   "metadata": {},
   "outputs": [
    {
     "name": "stdout",
     "output_type": "stream",
     "text": [
      "<class 'pandas.core.frame.DataFrame'>\n",
      "RangeIndex: 762106 entries, 0 to 762105\n",
      "Data columns (total 17 columns):\n",
      " #   Column                  Non-Null Count   Dtype \n",
      "---  ------                  --------------   ----- \n",
      " 0   building_id             762106 non-null  int64 \n",
      " 1   district_id             762106 non-null  int64 \n",
      " 2   count_floors_pre_eq     762106 non-null  int64 \n",
      " 3   count_floors_post_eq    762106 non-null  int64 \n",
      " 4   age_building            762106 non-null  int64 \n",
      " 5   plinth_area_sq_ft       762106 non-null  int64 \n",
      " 6   height_ft_pre_eq        762106 non-null  int64 \n",
      " 7   height_ft_post_eq       762106 non-null  int64 \n",
      " 8   land_surface_condition  762106 non-null  object\n",
      " 9   foundation_type         762106 non-null  object\n",
      " 10  roof_type               762106 non-null  object\n",
      " 11  ground_floor_type       762106 non-null  object\n",
      " 12  other_floor_type        762106 non-null  object\n",
      " 13  position                762105 non-null  object\n",
      " 14  plan_configuration      762105 non-null  object\n",
      " 15  condition_post_eq       762106 non-null  object\n",
      " 16  damage                  762106 non-null  int64 \n",
      "dtypes: int64(9), object(8)\n",
      "memory usage: 98.8+ MB\n"
     ]
    }
   ],
   "source": [
    "df.info()"
   ]
  },
  {
   "cell_type": "code",
   "execution_count": 12,
   "metadata": {},
   "outputs": [],
   "source": [
    "# saving a csv file to use it later\n",
    "df.to_csv('datasets/first_version.csv', index=False)"
   ]
  },
  {
   "cell_type": "code",
   "execution_count": null,
   "metadata": {},
   "outputs": [],
   "source": []
  }
 ],
 "metadata": {
  "kernelspec": {
   "display_name": ".venv",
   "language": "python",
   "name": "python3"
  },
  "language_info": {
   "codemirror_mode": {
    "name": "ipython",
    "version": 3
   },
   "file_extension": ".py",
   "mimetype": "text/x-python",
   "name": "python",
   "nbconvert_exporter": "python",
   "pygments_lexer": "ipython3",
   "version": "3.9.7"
  },
  "orig_nbformat": 4
 },
 "nbformat": 4,
 "nbformat_minor": 2
}
